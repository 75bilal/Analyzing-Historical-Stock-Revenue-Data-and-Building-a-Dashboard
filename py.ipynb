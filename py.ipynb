{
 "cells": [
  {
   "cell_type": "markdown",
   "id": "f3cb4b3d",
   "metadata": {},
   "source": [
    "### python practice (list comprehension)\n"
   ]
  },
  {
   "cell_type": "code",
   "execution_count": 42,
   "id": "6de10b65",
   "metadata": {},
   "outputs": [
    {
     "name": "stdout",
     "output_type": "stream",
     "text": [
      "['apple', 'banana', 'mango', 'pineapple']\n",
      "['banana', 'mango', 'pineapple']\n"
     ]
    }
   ],
   "source": [
    "fruits = ['apple', 'banana', 'mango','pineapple']\n",
    "print(fruits)\n",
    "new_list = [x for x in fruits if'apple'  is not x]\n",
    "print(new_list)"
   ]
  },
  {
   "cell_type": "code",
   "execution_count": 43,
   "id": "02ed3c6b",
   "metadata": {},
   "outputs": [
    {
     "name": "stdout",
     "output_type": "stream",
     "text": [
      "['0x0', '0x1', '0x2', '0x3', '0x4', '0x5', '0x6', '0x7', '0x8', '0x9']\n"
     ]
    }
   ],
   "source": [
    "list = [hex(x) for x in range(10)]\n",
    "print(list)"
   ]
  },
  {
   "cell_type": "markdown",
   "id": "7f903326",
   "metadata": {},
   "source": [
    "### function practice "
   ]
  },
  {
   "cell_type": "code",
   "execution_count": 44,
   "id": "377d5d7a",
   "metadata": {},
   "outputs": [
    {
     "name": "stdout",
     "output_type": "stream",
     "text": [
      "this is my first function in python\n",
      "email Refsnes\n",
      "tobias Refsnes\n"
     ]
    }
   ],
   "source": [
    "def myfunction():\n",
    "    print('this is my first function in python')\n",
    "\n",
    "def my_function(fname):\n",
    "    print(fname,\"Refsnes\")\n",
    "myfunction()\n",
    "my_function('email')\n",
    "my_function('tobias')\n"
   ]
  },
  {
   "cell_type": "code",
   "execution_count": 45,
   "id": "4dda9fce",
   "metadata": {},
   "outputs": [
    {
     "name": "stdout",
     "output_type": "stream",
     "text": [
      "this is oldest kid dato\n"
     ]
    }
   ],
   "source": [
    "# arbitrary  arguments\n",
    "##If you do not know how many arguments that will be passed into your \n",
    "# function, add a * before the parameter name in the function definition\n",
    "\n",
    "def practice_function(*kids):\n",
    "    print('this is oldest kid', kids[2])\n",
    "\n",
    "practice_function('ali', 'bibi' , 'dato')\n"
   ]
  },
  {
   "cell_type": "code",
   "execution_count": null,
   "id": "9e144561",
   "metadata": {},
   "outputs": [
    {
     "ename": "",
     "evalue": "",
     "output_type": "error",
     "traceback": [
      "\u001b[1;31mRunning cells with 'Python 3.13.1' requires the ipykernel package.\n",
      "\u001b[1;31mInstall 'ipykernel' into the Python environment. \n",
      "\u001b[1;31mCommand: 'c:/Users/jk/AppData/Local/Programs/Python/Python313/python.exe -m pip install ipykernel -U --user --force-reinstall'"
     ]
    }
   ],
   "source": [
    "def func(**cend):\n",
    "    print('Email:' , cend[\"email\"])\n",
    "    print('Password:' , cend[\"password\"])\n",
    "\n",
    "func(password='11227575',email='bilal266@gmail.com',name='bilal')"
   ]
  },
  {
   "cell_type": "code",
   "execution_count": null,
   "id": "5398098a",
   "metadata": {},
   "outputs": [
    {
     "ename": "",
     "evalue": "",
     "output_type": "error",
     "traceback": [
      "\u001b[1;31mRunning cells with 'Python 3.13.1' requires the ipykernel package.\n",
      "\u001b[1;31mInstall 'ipykernel' into the Python environment. \n",
      "\u001b[1;31mCommand: 'c:/Users/jk/AppData/Local/Programs/Python/Python313/python.exe -m pip install ipykernel -U --user --force-reinstall'"
     ]
    }
   ],
   "source": [
    "help(str)"
   ]
  },
  {
   "cell_type": "code",
   "execution_count": 53,
   "id": "4e8740d1",
   "metadata": {},
   "outputs": [
    {
     "name": "stdout",
     "output_type": "stream",
     "text": [
      "Python\n",
      "python\n",
      "count of one in my_list is 5\n",
      "Count of 'l' in the string: 3\n"
     ]
    }
   ],
   "source": [
    "str ='python'\n",
    "print(str.capitalize())\n",
    "print(str.casefold())\n",
    "\n",
    "#count built-in-method\n",
    "\n",
    "my_list =[1,2,3,4,5,1,1,1,1]\n",
    "count_of_one=my_list.count(1)\n",
    "print(f\"count of one in my_list is {count_of_one}\")\n",
    "\n",
    "my_string = \"hello world\"\n",
    "count_of_l = my_string.count('l')\n",
    "print(f\"Count of 'l' in the string: {count_of_l}\")"
   ]
  },
  {
   "cell_type": "code",
   "execution_count": null,
   "id": "4bd3541e",
   "metadata": {},
   "outputs": [
    {
     "name": "stdout",
     "output_type": "stream",
     "text": [
      "True\n",
      "True\n"
     ]
    }
   ],
   "source": [
    "#endswith built_in_function\n",
    "\n",
    "filename = 'doucment.pdf'\n",
    "print(filename.endswith('.pdf'))\n",
    "\n",
    "print(filename.endswith(('.pdf','.jpeg','.jpg')))\n"
   ]
  },
  {
   "cell_type": "code",
   "execution_count": 11,
   "id": "a840bb85",
   "metadata": {},
   "outputs": [
    {
     "name": "stdout",
     "output_type": "stream",
     "text": [
      "['Data Analyst', 'Business Intelligence Analyst']\n"
     ]
    },
    {
     "data": {
      "text/plain": [
       "'qualifed for the following roles: Data Analyst, Business Intelligence Analyst'"
      ]
     },
     "execution_count": 11,
     "metadata": {},
     "output_type": "execute_result"
    }
   ],
   "source": [
    "# Define data science job roles and required skills\n",
    "job_roles = [\n",
    "    {'role': 'Data Analyst', 'skills': ['Python', 'SQL', 'Excel']},\n",
    "    {'role': 'Data Scientist', 'skills': ['Python', 'R', 'Machine Learning', 'Deep Learning']},\n",
    "    {'role': 'Machine Learning Engineer', 'skills': ['Python', 'TensorFlow', 'PyTorch', 'Scikit-Learn']},\n",
    "    {'role': 'Data Engineer', 'skills': ['Python', 'Apache Spark', 'Hadoop', 'SQL']},\n",
    "    {'role': 'Business Intelligence Analyst', 'skills': ['Python', 'SQL', 'Tableau', 'Power BI', 'Excel']},\n",
    "    {'role': 'Quantitative Analyst', 'skills': ['R', 'Python', 'MATLAB', 'Statistics']},\n",
    "    {'role': 'Operations Analyst', 'skills': ['Python', 'SQL', 'Data Visualization', 'Process Improvement']},\n",
    "    {'role': 'Database Administrator', 'skills': ['SQL', 'Oracle', 'MySQL', 'Database Management']},\n",
    "    {'role': 'AI Engineer', 'skills': ['Python', 'TensorFlow', 'PyTorch', 'Computer Vision']},\n",
    "    {'role': 'Statistician', 'skills': ['R', 'SAS', 'Python', 'Statistical Modeling']}\n",
    "]\n",
    "# My skills\n",
    "my_skills = ['Python', 'SQL', 'Excel']\n",
    "qualifed_roles =[]\n",
    "for job in job_roles:\n",
    "    qualifed  = True\n",
    "    for skill in my_skills:\n",
    "      if skill not in job['skills']:\n",
    "         qualifed=False\n",
    "         break\n",
    "    if qualifed:\n",
    "       qualifed_roles.append(job['role'])\n",
    "print(qualifed_roles)\n",
    "'qualifed for the following roles: '+ \", \".join(qualifed_roles)"
   ]
  },
  {
   "cell_type": "code",
   "execution_count": 22,
   "id": "df0b6926",
   "metadata": {},
   "outputs": [
    {
     "name": "stdout",
     "output_type": "stream",
     "text": [
      "<class 'datetime.datetime'>\n"
     ]
    }
   ],
   "source": [
    "from datetime import datetime\n",
    "data_science_jobs = [\n",
    "    {'job_title': 'Data Scientist', 'job_skills': \"['Python', 'SQL', 'Machine Learning']\", 'job_date': '2023-05-12'},\n",
    "    {'job_title': 'Machine Learning Engineer', 'job_skills': \"['Python', 'TensorFlow', 'Deep Learning']\", 'job_date': '2023-05-15'},\n",
    "    {'job_title': 'Data Analyst', 'job_skills': \"['SQL', 'R', 'Tableau']\", 'job_date': '2023-05-10'},\n",
    "    {'job_title': 'Business Intelligence Developer', 'job_skills': \"['SQL', 'PowerBI', 'Data Warehousing']\", 'job_date': '2023-05-08'},\n",
    "    {'job_title': 'Data Engineer', 'job_skills': \"['Python', 'Spark', 'Hadoop']\", 'job_date': '2023-05-18'},\n",
    "    {'job_title': 'AI Specialist', 'job_skills': \"['Python', 'PyTorch', 'AI Ethics']\", 'job_date': '2023-05-20'}\n",
    "]\n",
    "\n",
    "test_date = data_science_jobs[0]['job_date']\n",
    "#print(test_date)\n",
    "#print(type(test_date))\n",
    "\n",
    "#print(datetime.strptime(test_date,  '%Y-%m-%d'))\n",
    "\n",
    "#convert all data \n",
    "\n",
    "for job in data_science_jobs:\n",
    "    job['job_date'] = datetime.strptime(job['job_date'] , '%Y-%m-%d')\n",
    "data_science_jobs\n",
    "test_date = data_science_jobs[0]['job_date']\n",
    "print(type(test_date))\n"
   ]
  },
  {
   "cell_type": "code",
   "execution_count": 31,
   "id": "3f246b02",
   "metadata": {},
   "outputs": [
    {
     "name": "stdout",
     "output_type": "stream",
     "text": [
      "['Python', 'SQL', 'Machine Learning']\n",
      "['Python', 'TensorFlow', 'Deep Learning']\n",
      "['SQL', 'R', 'Tableau']\n",
      "['SQL', 'PowerBI', 'Data Warehousing']\n",
      "['Python', 'Spark', 'Hadoop']\n",
      "['Python', 'PyTorch', 'AI Ethics']\n"
     ]
    }
   ],
   "source": [
    "import ast\n",
    "test_skills = data_science_jobs[0]['job_skills']\n",
    "# print(test_skills)\n",
    "# print(type(test_skills))\n",
    "\n",
    "# print(ast.literal_eval(test_skills))\n",
    "# for job in data_science_jobs:\n",
    "#     job['job_skills'] = ast.literal_eval(job['job_skills'])\n",
    "\n",
    "for job in data_science_jobs:\n",
    "    print(job['job_skills'])\n",
    "\n"
   ]
  },
  {
   "cell_type": "code",
   "execution_count": 24,
   "id": "49c8264b",
   "metadata": {},
   "outputs": [],
   "source": [
    "# %%timeit\n",
    "import random \n",
    "##random_list = [random.randint(1_000,10_000) for _ in range(1_000)]\n",
    "# for i in random_list:\n",
    "#    print(i)"
   ]
  },
  {
   "cell_type": "code",
   "execution_count": null,
   "id": "f6480f0c",
   "metadata": {},
   "outputs": [],
   "source": []
  }
 ],
 "metadata": {
  "kernelspec": {
   "display_name": "Python 3",
   "language": "python",
   "name": "python3"
  },
  "language_info": {
   "codemirror_mode": {
    "name": "ipython",
    "version": 3
   },
   "file_extension": ".py",
   "mimetype": "text/x-python",
   "name": "python",
   "nbconvert_exporter": "python",
   "pygments_lexer": "ipython3",
   "version": "3.13.1"
  }
 },
 "nbformat": 4,
 "nbformat_minor": 5
}
